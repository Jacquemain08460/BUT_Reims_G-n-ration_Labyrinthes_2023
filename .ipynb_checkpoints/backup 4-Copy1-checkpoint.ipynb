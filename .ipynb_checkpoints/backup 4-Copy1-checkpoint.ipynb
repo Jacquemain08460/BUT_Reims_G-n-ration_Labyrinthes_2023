{
 "cells": [
  {
   "cell_type": "code",
   "execution_count": 1,
   "id": "5360f88c",
   "metadata": {},
   "outputs": [],
   "source": [
    "from random import *"
   ]
  },
  {
   "cell_type": "code",
   "execution_count": 62,
   "id": "66c891b6",
   "metadata": {},
   "outputs": [],
   "source": [
    "class Maze:\n",
    "    \"\"\"\n",
    "    Classe Labyrinthe\n",
    "    Représentation sous forme de graphe non-orienté\n",
    "    dont chaque sommet est une cellule (un tuple (l,c))\n",
    "    et dont la structure est représentée par un dictionnaire\n",
    "      - clés : sommets\n",
    "      - valeurs : ensemble des sommets voisins accessibles\n",
    "    \"\"\"\n",
    "    def __init__(self, height, width, empty):\n",
    "        \"\"\"\n",
    "        Constructeur d'un labyrinthe de height cellules de haut \n",
    "        et de width cellules de large \n",
    "        Les voisinages sont initialisés à des ensembles vides\n",
    "        Si empty est initialisé à False, alors le labyrinthe sera rempli de murs\n",
    "        si empty est True, il sera vide\n",
    "        \"\"\"\n",
    "        self.height    = height\n",
    "        self.width     = width\n",
    "        self.empty     = empty\n",
    "        if empty == False :\n",
    "            self.neighbors = {(i,j): set() for i in range(height) for j in range (width)}\n",
    "        else :\n",
    "            self.neighbors = {}\n",
    "            for i in range(height):\n",
    "                for j in range (width):\n",
    "                    seTemp = set()\n",
    "                    if i != height-1 and j != width-1 :\n",
    "                        seTemp = {(i+1,j), (i,j+1)}\n",
    "                    elif i != height-1 and j == width-1 :\n",
    "                        seTemp = {(i+1,j)}\n",
    "                    elif i == height-1 and j != width-1 :\n",
    "                        seTemp = {(i, j+1)}\n",
    "                    self.neighbors[i,j] = seTemp\n",
    "            \n",
    "                    \n",
    "\n",
    "    def info(self):\n",
    "        \"\"\"\n",
    "        Affichage des attributs d'un objet 'Maze' (fonction utile pour deboguer)\n",
    "        Retour:\n",
    "            chaîne (string): description textuelle des attributs de l'objet\n",
    "        \"\"\"\n",
    "        txt = f\"{self.height} x {self.width}\\n\"\n",
    "        txt += str(self.neighbors)\n",
    "        return txt\n",
    "\n",
    "    def __str__(self):\n",
    "        \"\"\"\n",
    "        Représentation textuelle d'un objet Maze (en utilisant des caractères ascii)\n",
    "        Retour:\n",
    "             chaîne (str) : chaîne de caractères représentant le labyrinthe\n",
    "        \"\"\"\n",
    "        txt = \"\"\n",
    "        # Première ligne\n",
    "        txt += \"┏\"\n",
    "        for j in range(self.width-1):\n",
    "            txt += \"━━━┳\"\n",
    "        txt += \"━━━┓\\n\"\n",
    "        txt += \"┃\"\n",
    "        for j in range(self.width-1):\n",
    "            txt += \"   ┃\" if (0,j+1) not in self.neighbors[(0,j)] else \"    \"\n",
    "        txt += \"   ┃\\n\"\n",
    "        # Lignes normales\n",
    "        for i in range(self.height-1):\n",
    "            txt += \"┣\"\n",
    "            for j in range(self.width-1):\n",
    "                txt += \"━━━╋\" if (i+1,j) not in self.neighbors[(i,j)] else \"   ╋\"\n",
    "            txt += \"━━━┫\\n\" if (i+1,self.width-1) not in self.neighbors[(i,self.width-1)] else \"   ┫\\n\"\n",
    "            txt += \"┃\"\n",
    "            for j in range(self.width):\n",
    "                txt += \"   ┃\" if (i+1,j+1) not in self.neighbors[(i+1,j)] else \"    \"\n",
    "            txt += \"\\n\"\n",
    "        # Bas du tableau\n",
    "        txt += \"┗\"\n",
    "        for i in range(self.width-1):\n",
    "            txt += \"━━━┻\"\n",
    "        txt += \"━━━┛\\n\"\n",
    "\n",
    "        return txt\n",
    "    \n",
    "    def add_wall(self, c1, c2):\n",
    "        \"\"\"\n",
    "        Permet d'ajouter un mur entre les 2 cellules prises en paramètre.\n",
    "        Cette fonction vas aussi vérifier si les 2 cellules sont bien inclues dans le labyrinthe.\n",
    "        \"\"\"\n",
    "        # Facultatif : on teste si les sommets sont bien dans le labyrinthe\n",
    "        assert 0 <= c1[0] < self.height and \\\n",
    "            0 <= c1[1] < self.width and \\\n",
    "            0 <= c2[0] < self.height and \\\n",
    "            0 <= c2[1] < self.width, \\\n",
    "            f\"Erreur lors de l'ajout d'un mur entre {c1} et {c2} : les coordonnées de sont pas compatibles avec les dimensions du labyrinthe\"\n",
    "        # Extraction dans les voisins\n",
    "        if c2 in self.neighbors[c1]:      # Si c2 est dans les voisines de c1\n",
    "            self.neighbors[c1].remove(c2) # on le retire\n",
    "        if c1 in self.neighbors[c2]:      # Si c1 est dans les voisines de c2\n",
    "            self.neighbors[c2].remove(c1) # on le retire\n",
    "            \n",
    "    def remove_wall(self, c1, c2):\n",
    "        \"\"\"\n",
    "        Permet de détruire un mur entre les 2 cellules prises en paramètre.\n",
    "        Cette fonction vas aussi vérifier si les 2 cellules sont bien inclues dans le labyrinthe.\n",
    "        \"\"\"\n",
    "        # Facultatif : on teste si les sommets sont bien dans le labyrinthe\n",
    "        assert 0 <= c1[0] < self.height and \\\n",
    "            0 <= c1[1] < self.width and \\\n",
    "            0 <= c2[0] < self.height and \\\n",
    "            0 <= c2[1] < self.width, \\\n",
    "            f\"Erreur lors de la destruction du mur entre {c1} et {c2} : les coordonnées de sont pas compatibles avec les dimensions du labyrinthe\"\n",
    "        # Ajout dans les voisins\n",
    "        if c2 not in self.neighbors[c1]:      # Si c1 ne contient pas c2\n",
    "            self.neighbors[c1].add(c2) # on le rajoute\n",
    "        if c1 not in self.neighbors[c2]:      # Si c2 ne contient pas c1\n",
    "            self.neighbors[c2].add(c1) # on le rajoute\n",
    "            \n",
    "    def get_walls(self):\n",
    "        \"\"\"\n",
    "        Retourne tout les murs du labyrinthe sous forme de liste de tuples de cellules (tuples)\n",
    "        La partie en # est inutile, mais était sensé retirer les doublons de couples de murs.\n",
    "        \"\"\"\n",
    "        murs = []\n",
    "        for i in range(self.height):\n",
    "            for j in range (self.width):\n",
    "                if i != self.height-1 and j != self.width-1 :\n",
    "                    murs.append(((i,j), (i,j+1)))\n",
    "                    murs.append(((i,j), (i+1,j)))\n",
    "                elif i != self.height-1 and j == self.width-1 :\n",
    "                    murs.append(((i,j), (i+1,j)))\n",
    "                elif i == self.height-1 and j != self.width-1 :\n",
    "                    murs.append(((i,j),(i, j+1)))\n",
    "        #for cell, neighbors in self.neighbors.items():\n",
    "            #for neighbor in neighbors :\n",
    "                #if (((cell), (neighbor))) in murs or (((neighbor), (cell))) in murs :\n",
    "                    #murs.remove(((cell), (neighbor)))\n",
    "                    #print('I m useful')\n",
    "        return murs\n",
    "                \n",
    "    def fill(self):\n",
    "        \"\"\"\n",
    "        Rempli le labyrinthe de murs.\n",
    "        \"\"\"\n",
    "        self.neighbors = {(i,j): set() for i in range(self.height) for j in range (self.width)}\n",
    "        \n",
    "    def clear(self):\n",
    "        \"\"\"\n",
    "        Permet de supprimer tout les murs du labyrinthe.\n",
    "        \"\"\"\n",
    "        self.neighbors = {}\n",
    "        for i in range(self.height):\n",
    "            for j in range (self.width):\n",
    "                seTemp = set()\n",
    "                if i != self.height-1 and j != self.width-1 :\n",
    "                    seTemp = {(i+1,j), (i,j+1)}\n",
    "                elif i != self.height-1 and j == self.width-1 :\n",
    "                    seTemp = {(i+1,j)}\n",
    "                elif i == self.height-1 and j != self.width-1 :\n",
    "                    seTemp = {(i, j+1)}\n",
    "                self.neighbors[i,j] = seTemp\n",
    "              \n",
    "\n",
    " ##############################################################################################################################\n",
    "        \n",
    "    def get_cells(self):\n",
    "        \"\"\"\n",
    "        Permet de lister toutes les cellules d'un labyrinthe sous forme de liste.\n",
    "        \"\"\"\n",
    "        listeCells = []\n",
    "        for i in range(0, self.height):\n",
    "            for j in range(0, self.width):\n",
    "                listeCells.append((i,j))\n",
    "        return listeCells\n",
    "        \n",
    "    def get_contiguous_cell(self,c):\n",
    "        \"\"\"\n",
    "        Retourne les cellules contingentes à la cellule passée en paramètre sous\n",
    "        forme de liste.\n",
    "        \"\"\"\n",
    "        listContiguous = []\n",
    "        height = self.height\n",
    "        width = self.width\n",
    "        if c[0]-1 >= 0:\n",
    "            listContiguous += [(c[0]-1,c[1])]\n",
    "        if c[0]+1 < height:\n",
    "            listContiguous += [(c[0]+1,c[1])]\n",
    "        if c[1]-1 >= 0:\n",
    "            listContiguous += [(c[0],c[1]-1)]\n",
    "        if c[1]+1 < width:\n",
    "            listContiguous += [(c[0],c[1]+1)]\n",
    "        return listContiguous\n",
    "        \n",
    "    def get_reachable_cells(self, c):\n",
    "        \"\"\"\n",
    "        Retourne les cellules atteignables par la cellule passée en paramètre sous forme\n",
    "        de liste.\n",
    "        \"\"\"\n",
    "        reachable = []\n",
    "        contiguous = self.get_contiguous_cell(c)\n",
    "        for i in range(len(contiguous)):\n",
    "            if contiguous[i] in self.neighbors[c] and c in self.neighbors[contiguous[i]]:\n",
    "                reachable.append(contiguous[i])\n",
    "        return reachable\n",
    "    \n",
    "#############################################################################################################################\n",
    "    \n",
    "    def gen_btree(h: int, w: int):\n",
    "        \"\"\"\n",
    "        Algorythme de génération de labyrinthe basé sur les arbres binaires, prends en\n",
    "        paramètre une hauteur et une longueur et renvoi une instance de labyrinthe.\n",
    "        \"\"\"\n",
    "        laby = Maze(h, w, False)\n",
    "        ran = 0\n",
    "        for i in range(h):\n",
    "            for j in range(w):\n",
    "                #print(f'cell {(i, j)}')\n",
    "                opened = laby.get_reachable_cells((i, j))\n",
    "                exist = laby.get_contiguous_cell((i, j))\n",
    "                #print(f'opened = {opened}')\n",
    "                #print(f'exist = {exist}')\n",
    "                if ((i+1, j)) in exist and ((i, j+1)) in exist:\n",
    "                    if ((i+1, j)) not in opened and ((i, j+1)) not in opened :\n",
    "                        ran = randint(0,1)\n",
    "                        if ran == 0 :\n",
    "                            laby.remove_wall((i, j), (i+1, j))\n",
    "                        else :\n",
    "                            laby.remove_wall((i, j), (i, j+1))\n",
    "                            #print('removed ran')\n",
    "                    elif ((i+1, j)) not in opened :\n",
    "                        laby.remove_wall((i, j), (i+1, j))\n",
    "                        #print('removed SUD')\n",
    "                    elif ((i, j+1)) not in opened :\n",
    "                        laby.remove_wall((i, j), (i, j+1))\n",
    "                        #print('removed NORD')\n",
    "                else :\n",
    "                    if ((i+1, j)) in exist and ((i+1, j)) not in opened :\n",
    "                        laby.remove_wall((i, j), (i+1, j))\n",
    "                        #print('removed SUD')\n",
    "                    elif ((i, j+1)) in exist and ((i, j+1)) not in opened :\n",
    "                        laby.remove_wall((i, j), (i, j+1))\n",
    "                        #print('removed NORD')\n",
    "                        #print('REMOVED NONE')\n",
    "        return laby\n",
    "    \n",
    "    def gen_sidewinder(h, w):\n",
    "        \"\"\"\n",
    "        Algorythme de génération de labyrinthe basé sur le balayage, prends en\n",
    "        paramètre une hauteur et une longueur et renvoi une instance de labyrinthe.\n",
    "        \"\"\"\n",
    "        laby = Maze(h, w, False)\n",
    "        ran = 0\n",
    "        for i in range(h-1):\n",
    "            sequence = []\n",
    "            for j in range(w-1):\n",
    "                #print((i, j))\n",
    "                sequence.append((i, j))\n",
    "                ran = randint(0,1)\n",
    "                if ran == 1:\n",
    "                    laby.remove_wall((i, j), (i, j+1))\n",
    "                    #print('REMOVED EST')\n",
    "                else :\n",
    "                    ran = randint(0, len(sequence)-1)\n",
    "                    laby.remove_wall((sequence[ran][0], j), (sequence[ran][0]+1, j))\n",
    "                    #print('REMOVED SOUTH')\n",
    "                    sequence = []\n",
    "            sequence.append((i, w-1))\n",
    "            #print(sequence)\n",
    "            ran = randint(0, len(sequence)-1)\n",
    "            #print((i+1, sequence[ran][1]))\n",
    "            laby.remove_wall((i, sequence[ran][1]), (i+1, sequence[ran][1]))\n",
    "            #print('REMOVED SOUTH')\n",
    "        l = w-1\n",
    "        for k in range(w-1):\n",
    "            #print((l, k))\n",
    "            laby.remove_wall((l, k), (l, k+1))\n",
    "            #print('REMOVED EST')\n",
    "        return laby\n",
    "    \n",
    "    def gen_fusion(h, w):\n",
    "        \"\"\"\n",
    "        Algorythme de génération de labyrinthe basé sur la fusion de chemins, prends en\n",
    "        paramètre une hauteur et une longueur et renvoi une instance de labyrinthe.\n",
    "        \"\"\"\n",
    "        laby = Maze(h, w, False)\n",
    "        cellLabels = {}\n",
    "        for i in range(h):\n",
    "            for j in range(w):\n",
    "                #print((i * w) +j)\n",
    "                cellLabels[(i, j)] = {(i * w) +j}\n",
    "        murs = laby.get_walls()\n",
    "        print(murs)\n",
    "        shuffle(murs)\n",
    "        for m in murs :\n",
    "            #print(m)\n",
    "            if cellLabels[m[0]] != cellLabels[m[1]]:\n",
    "                laby.remove_wall(m[0], m[1])\n",
    "                #print(cellLabels[m[1]])\n",
    "                for k in range(h):\n",
    "                    for l in range(w):\n",
    "                        if (k, l) != m[1]:\n",
    "                            #print(cellLabels[(k, l)], cellLabels[m[1]])\n",
    "                            #print(f'{cellLabels[(k, l)]} and {cellLabels[m[1]]} are {cellLabels[(k, l)] == cellLabels[m[1]]}')\n",
    "                            if cellLabels[(k, l)] == cellLabels[m[1]]:\n",
    "                                cellLabels[(k, l)] = cellLabels[m[0]]\n",
    "                cellLabels[m[1]] = cellLabels[m[0]]\n",
    "                #print(laby)\n",
    "                #print(cellLabels)\n",
    "        return laby\n",
    "    \n",
    "    def gen_exploration(h, w):\n",
    "        \"\"\"\n",
    "        Algorythme de génération de labyrinthe basé sur l'exploration de cases, prends en\n",
    "        paramètre une hauteur et une longueur et renvoi une instance de labyrinthe.\n",
    "        \"\"\"\n",
    "        laby = Maze(h, w, False)\n",
    "        cells = laby.get_cells()\n",
    "        print(cells)\n",
    "        return laby"
   ]
  },
  {
   "cell_type": "code",
   "execution_count": 60,
   "id": "22d746dc",
   "metadata": {},
   "outputs": [
    {
     "name": "stdout",
     "output_type": "stream",
     "text": [
      "[(0, 0), (0, 1), (0, 2), (0, 3), (0, 4), (1, 0), (1, 1), (1, 2), (1, 3), (1, 4), (2, 0), (2, 1), (2, 2), (2, 3), (2, 4), (3, 0), (3, 1), (3, 2), (3, 3), (3, 4), (4, 0), (4, 1), (4, 2), (4, 3), (4, 4)]\n",
      "┏━━━┳━━━┳━━━┳━━━┳━━━┓\n",
      "┃   ┃   ┃   ┃   ┃   ┃\n",
      "┣━━━╋━━━╋━━━╋━━━╋━━━┫\n",
      "┃   ┃   ┃   ┃   ┃   ┃\n",
      "┣━━━╋━━━╋━━━╋━━━╋━━━┫\n",
      "┃   ┃   ┃   ┃   ┃   ┃\n",
      "┣━━━╋━━━╋━━━╋━━━╋━━━┫\n",
      "┃   ┃   ┃   ┃   ┃   ┃\n",
      "┣━━━╋━━━╋━━━╋━━━╋━━━┫\n",
      "┃   ┃   ┃   ┃   ┃   ┃\n",
      "┗━━━┻━━━┻━━━┻━━━┻━━━┛\n",
      "\n"
     ]
    }
   ],
   "source": [
    "laby = Maze.gen_exploration(5,5)\n",
    "print(laby)"
   ]
  },
  {
   "cell_type": "code",
   "execution_count": 63,
   "id": "a2bbc7ff",
   "metadata": {},
   "outputs": [
    {
     "name": "stdout",
     "output_type": "stream",
     "text": [
      "[((0, 0), (0, 1)), ((0, 0), (1, 0)), ((0, 1), (0, 2)), ((0, 1), (1, 1)), ((0, 2), (0, 3)), ((0, 2), (1, 2)), ((0, 3), (0, 4)), ((0, 3), (1, 3)), ((0, 4), (0, 5)), ((0, 4), (1, 4)), ((0, 5), (0, 6)), ((0, 5), (1, 5)), ((0, 6), (0, 7)), ((0, 6), (1, 6)), ((0, 7), (0, 8)), ((0, 7), (1, 7)), ((0, 8), (0, 9)), ((0, 8), (1, 8)), ((0, 9), (1, 9)), ((1, 0), (1, 1)), ((1, 0), (2, 0)), ((1, 1), (1, 2)), ((1, 1), (2, 1)), ((1, 2), (1, 3)), ((1, 2), (2, 2)), ((1, 3), (1, 4)), ((1, 3), (2, 3)), ((1, 4), (1, 5)), ((1, 4), (2, 4)), ((1, 5), (1, 6)), ((1, 5), (2, 5)), ((1, 6), (1, 7)), ((1, 6), (2, 6)), ((1, 7), (1, 8)), ((1, 7), (2, 7)), ((1, 8), (1, 9)), ((1, 8), (2, 8)), ((1, 9), (2, 9)), ((2, 0), (2, 1)), ((2, 0), (3, 0)), ((2, 1), (2, 2)), ((2, 1), (3, 1)), ((2, 2), (2, 3)), ((2, 2), (3, 2)), ((2, 3), (2, 4)), ((2, 3), (3, 3)), ((2, 4), (2, 5)), ((2, 4), (3, 4)), ((2, 5), (2, 6)), ((2, 5), (3, 5)), ((2, 6), (2, 7)), ((2, 6), (3, 6)), ((2, 7), (2, 8)), ((2, 7), (3, 7)), ((2, 8), (2, 9)), ((2, 8), (3, 8)), ((2, 9), (3, 9)), ((3, 0), (3, 1)), ((3, 0), (4, 0)), ((3, 1), (3, 2)), ((3, 1), (4, 1)), ((3, 2), (3, 3)), ((3, 2), (4, 2)), ((3, 3), (3, 4)), ((3, 3), (4, 3)), ((3, 4), (3, 5)), ((3, 4), (4, 4)), ((3, 5), (3, 6)), ((3, 5), (4, 5)), ((3, 6), (3, 7)), ((3, 6), (4, 6)), ((3, 7), (3, 8)), ((3, 7), (4, 7)), ((3, 8), (3, 9)), ((3, 8), (4, 8)), ((3, 9), (4, 9)), ((4, 0), (4, 1)), ((4, 0), (5, 0)), ((4, 1), (4, 2)), ((4, 1), (5, 1)), ((4, 2), (4, 3)), ((4, 2), (5, 2)), ((4, 3), (4, 4)), ((4, 3), (5, 3)), ((4, 4), (4, 5)), ((4, 4), (5, 4)), ((4, 5), (4, 6)), ((4, 5), (5, 5)), ((4, 6), (4, 7)), ((4, 6), (5, 6)), ((4, 7), (4, 8)), ((4, 7), (5, 7)), ((4, 8), (4, 9)), ((4, 8), (5, 8)), ((4, 9), (5, 9)), ((5, 0), (5, 1)), ((5, 0), (6, 0)), ((5, 1), (5, 2)), ((5, 1), (6, 1)), ((5, 2), (5, 3)), ((5, 2), (6, 2)), ((5, 3), (5, 4)), ((5, 3), (6, 3)), ((5, 4), (5, 5)), ((5, 4), (6, 4)), ((5, 5), (5, 6)), ((5, 5), (6, 5)), ((5, 6), (5, 7)), ((5, 6), (6, 6)), ((5, 7), (5, 8)), ((5, 7), (6, 7)), ((5, 8), (5, 9)), ((5, 8), (6, 8)), ((5, 9), (6, 9)), ((6, 0), (6, 1)), ((6, 0), (7, 0)), ((6, 1), (6, 2)), ((6, 1), (7, 1)), ((6, 2), (6, 3)), ((6, 2), (7, 2)), ((6, 3), (6, 4)), ((6, 3), (7, 3)), ((6, 4), (6, 5)), ((6, 4), (7, 4)), ((6, 5), (6, 6)), ((6, 5), (7, 5)), ((6, 6), (6, 7)), ((6, 6), (7, 6)), ((6, 7), (6, 8)), ((6, 7), (7, 7)), ((6, 8), (6, 9)), ((6, 8), (7, 8)), ((6, 9), (7, 9)), ((7, 0), (7, 1)), ((7, 0), (8, 0)), ((7, 1), (7, 2)), ((7, 1), (8, 1)), ((7, 2), (7, 3)), ((7, 2), (8, 2)), ((7, 3), (7, 4)), ((7, 3), (8, 3)), ((7, 4), (7, 5)), ((7, 4), (8, 4)), ((7, 5), (7, 6)), ((7, 5), (8, 5)), ((7, 6), (7, 7)), ((7, 6), (8, 6)), ((7, 7), (7, 8)), ((7, 7), (8, 7)), ((7, 8), (7, 9)), ((7, 8), (8, 8)), ((7, 9), (8, 9)), ((8, 0), (8, 1)), ((8, 0), (9, 0)), ((8, 1), (8, 2)), ((8, 1), (9, 1)), ((8, 2), (8, 3)), ((8, 2), (9, 2)), ((8, 3), (8, 4)), ((8, 3), (9, 3)), ((8, 4), (8, 5)), ((8, 4), (9, 4)), ((8, 5), (8, 6)), ((8, 5), (9, 5)), ((8, 6), (8, 7)), ((8, 6), (9, 6)), ((8, 7), (8, 8)), ((8, 7), (9, 7)), ((8, 8), (8, 9)), ((8, 8), (9, 8)), ((8, 9), (9, 9)), ((9, 0), (9, 1)), ((9, 1), (9, 2)), ((9, 2), (9, 3)), ((9, 3), (9, 4)), ((9, 4), (9, 5)), ((9, 5), (9, 6)), ((9, 6), (9, 7)), ((9, 7), (9, 8)), ((9, 8), (9, 9))]\n",
      "┏━━━┳━━━┳━━━┳━━━┳━━━┳━━━┳━━━┳━━━┳━━━┳━━━┓\n",
      "┃           ┃                           ┃\n",
      "┣   ╋━━━╋   ╋━━━╋━━━╋   ╋   ╋━━━╋━━━╋━━━┫\n",
      "┃       ┃               ┃   ┃   ┃       ┃\n",
      "┣   ╋   ╋   ╋   ╋━━━╋━━━╋━━━╋   ╋   ╋━━━┫\n",
      "┃   ┃   ┃   ┃   ┃       ┃   ┃   ┃       ┃\n",
      "┣   ╋   ╋━━━╋   ╋━━━╋   ╋   ╋   ╋   ╋   ┫\n",
      "┃   ┃   ┃       ┃           ┃       ┃   ┃\n",
      "┣   ╋━━━╋━━━╋   ╋━━━╋━━━╋   ╋━━━╋━━━╋   ┫\n",
      "┃       ┃           ┃   ┃               ┃\n",
      "┣━━━╋━━━╋   ╋━━━╋   ╋   ╋━━━╋   ╋   ╋━━━┫\n",
      "┃               ┃   ┃           ┃   ┃   ┃\n",
      "┣━━━╋━━━╋   ╋   ╋━━━╋━━━╋━━━╋   ╋   ╋   ┫\n",
      "┃           ┃   ┃       ┃   ┃   ┃       ┃\n",
      "┣━━━╋   ╋   ╋   ╋━━━╋   ╋   ╋   ╋━━━╋   ┫\n",
      "┃   ┃   ┃   ┃   ┃                   ┃   ┃\n",
      "┣   ╋   ╋━━━╋   ╋━━━╋   ╋   ╋━━━╋━━━╋   ┫\n",
      "┃       ┃               ┃       ┃       ┃\n",
      "┣   ╋━━━╋━━━╋━━━╋━━━╋   ╋   ╋━━━╋   ╋━━━┫\n",
      "┃       ┃               ┃   ┃           ┃\n",
      "┗━━━┻━━━┻━━━┻━━━┻━━━┻━━━┻━━━┻━━━┻━━━┻━━━┛\n",
      "\n"
     ]
    }
   ],
   "source": [
    "laby = Maze.gen_fusion(10, 10)\n",
    "print(laby)"
   ]
  },
  {
   "cell_type": "code",
   "execution_count": 4,
   "id": "6c29fbdf",
   "metadata": {},
   "outputs": [
    {
     "name": "stdout",
     "output_type": "stream",
     "text": [
      "┏━━━┳━━━┳━━━┳━━━┳━━━┳━━━┳━━━┳━━━┳━━━┳━━━┓\n",
      "┃   ┃   ┃           ┃       ┃       ┃   ┃\n",
      "┣   ╋   ╋━━━╋━━━╋   ╋━━━╋   ╋━━━╋   ╋   ┫\n",
      "┃           ┃   ┃   ┃       ┃           ┃\n",
      "┣━━━╋━━━╋   ╋   ╋   ╋━━━╋   ╋━━━╋━━━╋   ┫\n",
      "┃           ┃   ┃   ┃   ┃           ┃   ┃\n",
      "┣━━━╋━━━╋   ╋   ╋   ╋   ╋━━━╋━━━╋   ╋   ┫\n",
      "┃           ┃       ┃   ┃       ┃       ┃\n",
      "┣━━━╋━━━╋   ╋━━━╋   ╋   ╋━━━╋   ╋   ╋━━━┫\n",
      "┃   ┃       ┃       ┃       ┃           ┃\n",
      "┣   ╋━━━╋   ╋━━━╋   ╋━━━╋   ╋━━━╋   ╋━━━┫\n",
      "┃   ┃           ┃       ┃           ┃   ┃\n",
      "┣   ╋━━━╋━━━╋   ╋━━━╋   ╋━━━╋━━━╋   ╋   ┫\n",
      "┃       ┃                   ┃   ┃       ┃\n",
      "┣━━━╋   ╋━━━╋━━━╋━━━╋━━━╋   ╋   ╋━━━╋   ┫\n",
      "┃   ┃   ┃   ┃   ┃       ┃               ┃\n",
      "┣   ╋   ╋   ╋   ╋━━━╋   ╋━━━╋━━━╋━━━╋   ┫\n",
      "┃   ┃   ┃                   ┃   ┃       ┃\n",
      "┣   ╋   ╋━━━╋━━━╋━━━╋━━━╋   ╋   ╋   ╋━━━┫\n",
      "┃                                       ┃\n",
      "┗━━━┻━━━┻━━━┻━━━┻━━━┻━━━┻━━━┻━━━┻━━━┻━━━┛\n",
      "\n"
     ]
    }
   ],
   "source": [
    "laby = Maze.gen_sidewinder(10, 10)\n",
    "print(laby)"
   ]
  },
  {
   "cell_type": "code",
   "execution_count": 5,
   "id": "c61afe16",
   "metadata": {},
   "outputs": [
    {
     "name": "stdout",
     "output_type": "stream",
     "text": [
      "┏━━━┳━━━┳━━━┳━━━┳━━━┳━━━┳━━━┳━━━┳━━━┳━━━┓\n",
      "┃   ┃           ┃   ┃   ┃   ┃   ┃       ┃\n",
      "┣   ╋━━━╋━━━╋   ╋   ╋   ╋   ╋   ╋━━━╋   ┫\n",
      "┃       ┃   ┃   ┃           ┃   ┃       ┃\n",
      "┣━━━╋   ╋   ╋   ╋━━━╋━━━╋   ╋   ╋━━━╋   ┫\n",
      "┃   ┃       ┃   ┃   ┃   ┃               ┃\n",
      "┣   ╋━━━╋   ╋   ╋   ╋   ╋━━━╋━━━╋━━━╋   ┫\n",
      "┃               ┃       ┃   ┃   ┃   ┃   ┃\n",
      "┣━━━╋━━━╋━━━╋   ╋━━━╋   ╋   ╋   ╋   ╋   ┫\n",
      "┃   ┃   ┃       ┃   ┃   ┃   ┃           ┃\n",
      "┣   ╋   ╋━━━╋   ╋   ╋   ╋   ╋━━━╋━━━╋   ┫\n",
      "┃       ┃   ┃   ┃   ┃               ┃   ┃\n",
      "┣━━━╋   ╋   ╋   ╋   ╋━━━╋━━━╋━━━╋   ╋   ┫\n",
      "┃                   ┃       ┃   ┃   ┃   ┃\n",
      "┣━━━╋━━━╋━━━╋━━━╋   ╋━━━╋   ╋   ╋   ╋   ┫\n",
      "┃   ┃                   ┃               ┃\n",
      "┣   ╋━━━╋━━━╋━━━╋━━━╋   ╋━━━╋━━━╋━━━╋   ┫\n",
      "┃       ┃   ┃                           ┃\n",
      "┣━━━╋   ╋   ╋━━━╋━━━╋━━━╋━━━╋━━━╋━━━╋   ┫\n",
      "┃                                       ┃\n",
      "┗━━━┻━━━┻━━━┻━━━┻━━━┻━━━┻━━━┻━━━┻━━━┻━━━┛\n",
      "\n"
     ]
    }
   ],
   "source": [
    "laby = Maze.gen_btree(10, 10)\n",
    "print(laby)"
   ]
  },
  {
   "cell_type": "code",
   "execution_count": 6,
   "id": "f0ae308c",
   "metadata": {},
   "outputs": [
    {
     "name": "stdout",
     "output_type": "stream",
     "text": [
      "[]\n",
      "[((2, 1), (2, 2))]\n",
      "[]\n"
     ]
    }
   ],
   "source": [
    "labyTest = Maze(3, 3, True)\n",
    "print(labyTest.get_walls())\n",
    "labyTest.add_wall((2,1), (2,2))\n",
    "print(labyTest.get_walls())\n",
    "labyTest.clear()\n",
    "print(labyTest.get_walls())"
   ]
  },
  {
   "cell_type": "code",
   "execution_count": 7,
   "id": "ecd68c1d",
   "metadata": {},
   "outputs": [
    {
     "name": "stdout",
     "output_type": "stream",
     "text": [
      "4 x 4\n",
      "{(0, 0): set(), (0, 1): set(), (0, 2): set(), (0, 3): set(), (1, 0): set(), (1, 1): set(), (1, 2): set(), (1, 3): set(), (2, 0): set(), (2, 1): set(), (2, 2): set(), (2, 3): set(), (3, 0): set(), (3, 1): set(), (3, 2): set(), (3, 3): set()}\n"
     ]
    }
   ],
   "source": [
    "laby = Maze(4, 4, False)\n",
    "print(laby.info())"
   ]
  },
  {
   "cell_type": "code",
   "execution_count": 8,
   "id": "2ab69fc4",
   "metadata": {},
   "outputs": [
    {
     "name": "stdout",
     "output_type": "stream",
     "text": [
      "┏━━━┳━━━┳━━━┳━━━┓\n",
      "┃   ┃   ┃   ┃   ┃\n",
      "┣━━━╋━━━╋━━━╋━━━┫\n",
      "┃   ┃   ┃   ┃   ┃\n",
      "┣━━━╋━━━╋━━━╋━━━┫\n",
      "┃   ┃   ┃   ┃   ┃\n",
      "┣━━━╋━━━╋━━━╋━━━┫\n",
      "┃   ┃   ┃   ┃   ┃\n",
      "┗━━━┻━━━┻━━━┻━━━┛\n",
      "\n"
     ]
    }
   ],
   "source": [
    "print(laby)"
   ]
  },
  {
   "cell_type": "code",
   "execution_count": 9,
   "id": "7056e243",
   "metadata": {},
   "outputs": [
    {
     "name": "stdout",
     "output_type": "stream",
     "text": [
      "┏━━━┳━━━┳━━━┳━━━┓\n",
      "┃   ┃           ┃\n",
      "┣   ╋   ╋━━━╋   ┫\n",
      "┃   ┃       ┃   ┃\n",
      "┣   ╋━━━╋   ╋   ┫\n",
      "┃           ┃   ┃\n",
      "┣   ╋━━━╋━━━╋   ┫\n",
      "┃           ┃   ┃\n",
      "┗━━━┻━━━┻━━━┻━━━┛\n",
      "\n",
      "4 x 4\n",
      "{(0, 0): {(1, 0)}, (0, 1): {(1, 1), (0, 2)}, (0, 2): {(0, 1), (0, 3)}, (0, 3): {(0, 2), (1, 3)}, (1, 0): {(2, 0), (0, 0)}, (1, 1): {(0, 1), (1, 2)}, (1, 2): {(1, 1), (2, 2)}, (1, 3): {(2, 3), (0, 3)}, (2, 0): {(1, 0), (2, 1), (3, 0)}, (2, 1): {(2, 0), (2, 2)}, (2, 2): {(1, 2), (2, 1)}, (2, 3): {(3, 3), (1, 3)}, (3, 0): {(3, 1), (2, 0)}, (3, 1): {(3, 2), (3, 0)}, (3, 2): {(3, 1)}, (3, 3): {(2, 3)}}\n"
     ]
    }
   ],
   "source": [
    "laby.neighbors = {\n",
    "    (0, 0): {(1, 0)},\n",
    "    (0, 1): {(0, 2), (1, 1)},\n",
    "    (0, 2): {(0, 1), (0, 3)},\n",
    "    (0, 3): {(0, 2), (1, 3)},\n",
    "    (1, 0): {(2, 0), (0, 0)},\n",
    "    (1, 1): {(0, 1), (1, 2)},\n",
    "    (1, 2): {(1, 1), (2, 2)},\n",
    "    (1, 3): {(2, 3), (0, 3)},\n",
    "    (2, 0): {(1, 0), (2, 1), (3, 0)},\n",
    "    (2, 1): {(2, 0), (2, 2)},\n",
    "    (2, 2): {(1, 2), (2, 1)},\n",
    "    (2, 3): {(3, 3), (1, 3)},\n",
    "    (3, 0): {(3, 1), (2, 0)},\n",
    "    (3, 1): {(3, 2), (3, 0)},\n",
    "    (3, 2): {(3, 1)},\n",
    "    (3, 3): {(2, 3)}\n",
    "}\n",
    "\n",
    "print(laby)\n",
    "print(laby.info())"
   ]
  },
  {
   "cell_type": "code",
   "execution_count": 10,
   "id": "e5801268",
   "metadata": {},
   "outputs": [
    {
     "name": "stdout",
     "output_type": "stream",
     "text": [
      "4 x 4\n",
      "{(0, 0): {(1, 0), (0, 1)}, (0, 1): {(1, 1), (0, 2)}, (0, 2): {(1, 2), (0, 3)}, (0, 3): {(1, 3)}, (1, 0): {(1, 1), (2, 0)}, (1, 1): {(1, 2), (2, 1)}, (1, 2): {(1, 3), (2, 2)}, (1, 3): {(2, 3)}, (2, 0): {(2, 1), (3, 0)}, (2, 1): {(3, 1), (2, 2)}, (2, 2): {(2, 3), (3, 2)}, (2, 3): {(3, 3)}, (3, 0): {(3, 1)}, (3, 1): {(3, 2)}, (3, 2): {(3, 3)}, (3, 3): set()}\n",
      "┏━━━┳━━━┳━━━┳━━━┓\n",
      "┃               ┃\n",
      "┣   ╋   ╋   ╋   ┫\n",
      "┃               ┃\n",
      "┣   ╋   ╋   ╋   ┫\n",
      "┃               ┃\n",
      "┣   ╋   ╋   ╋   ┫\n",
      "┃               ┃\n",
      "┗━━━┻━━━┻━━━┻━━━┛\n",
      "\n"
     ]
    }
   ],
   "source": [
    "laby2 = Maze(4, 4, empty = True)\n",
    "print(laby2.info())\n",
    "print(laby2)"
   ]
  },
  {
   "cell_type": "code",
   "execution_count": 11,
   "id": "19ec2d88",
   "metadata": {},
   "outputs": [
    {
     "name": "stdout",
     "output_type": "stream",
     "text": [
      "┏━━━┳━━━┳━━━┳━━━┳━━━┓\n",
      "┃                   ┃\n",
      "┣   ╋   ╋   ╋   ╋   ┫\n",
      "┃                   ┃\n",
      "┣   ╋   ╋   ╋   ╋   ┫\n",
      "┃                   ┃\n",
      "┣   ╋   ╋   ╋   ╋   ┫\n",
      "┃                   ┃\n",
      "┣   ╋   ╋   ╋   ╋   ┫\n",
      "┃                   ┃\n",
      "┗━━━┻━━━┻━━━┻━━━┻━━━┛\n",
      "\n"
     ]
    }
   ],
   "source": [
    "laby = Maze(5, 5, empty = True)\n",
    "print(laby)"
   ]
  },
  {
   "cell_type": "code",
   "execution_count": 12,
   "id": "40e4b757",
   "metadata": {},
   "outputs": [
    {
     "name": "stdout",
     "output_type": "stream",
     "text": [
      "┏━━━┳━━━┳━━━┳━━━┳━━━┓\n",
      "┃   ┃               ┃\n",
      "┣   ╋   ╋   ╋   ╋   ┫\n",
      "┃                   ┃\n",
      "┣   ╋   ╋   ╋   ╋   ┫\n",
      "┃                   ┃\n",
      "┣   ╋   ╋   ╋   ╋   ┫\n",
      "┃                   ┃\n",
      "┣   ╋   ╋   ╋   ╋   ┫\n",
      "┃                   ┃\n",
      "┗━━━┻━━━┻━━━┻━━━┻━━━┛\n",
      "\n"
     ]
    }
   ],
   "source": [
    "laby.add_wall((0,0), (0,1))\n",
    "print(laby)"
   ]
  },
  {
   "cell_type": "code",
   "execution_count": 13,
   "id": "0b8332b3",
   "metadata": {},
   "outputs": [
    {
     "name": "stdout",
     "output_type": "stream",
     "text": [
      "┏━━━┳━━━┳━━━┳━━━┳━━━┓\n",
      "┃                   ┃\n",
      "┣   ╋   ╋   ╋   ╋   ┫\n",
      "┃                   ┃\n",
      "┣   ╋   ╋   ╋   ╋   ┫\n",
      "┃                   ┃\n",
      "┣   ╋   ╋   ╋   ╋   ┫\n",
      "┃                   ┃\n",
      "┣   ╋   ╋   ╋   ╋   ┫\n",
      "┃                   ┃\n",
      "┗━━━┻━━━┻━━━┻━━━┻━━━┛\n",
      "\n"
     ]
    }
   ],
   "source": [
    "laby.remove_wall((0,0), (0,1))\n",
    "print(laby)"
   ]
  },
  {
   "cell_type": "code",
   "execution_count": null,
   "id": "d0476b00",
   "metadata": {},
   "outputs": [],
   "source": []
  },
  {
   "cell_type": "code",
   "execution_count": null,
   "id": "fac706d9",
   "metadata": {},
   "outputs": [],
   "source": []
  },
  {
   "cell_type": "code",
   "execution_count": null,
   "id": "dba1c6f2",
   "metadata": {},
   "outputs": [],
   "source": []
  },
  {
   "cell_type": "code",
   "execution_count": null,
   "id": "05ce11cd",
   "metadata": {},
   "outputs": [],
   "source": []
  },
  {
   "cell_type": "code",
   "execution_count": null,
   "id": "051810b8",
   "metadata": {},
   "outputs": [],
   "source": []
  },
  {
   "cell_type": "code",
   "execution_count": null,
   "id": "e668b881",
   "metadata": {},
   "outputs": [],
   "source": []
  },
  {
   "cell_type": "code",
   "execution_count": null,
   "id": "d64f457e",
   "metadata": {},
   "outputs": [],
   "source": []
  },
  {
   "cell_type": "code",
   "execution_count": null,
   "id": "8640d2a6",
   "metadata": {},
   "outputs": [],
   "source": []
  },
  {
   "cell_type": "code",
   "execution_count": null,
   "id": "ece795b1",
   "metadata": {},
   "outputs": [],
   "source": []
  },
  {
   "cell_type": "code",
   "execution_count": null,
   "id": "4e1ec47f",
   "metadata": {},
   "outputs": [],
   "source": []
  },
  {
   "cell_type": "code",
   "execution_count": null,
   "id": "1deabf57",
   "metadata": {},
   "outputs": [],
   "source": []
  },
  {
   "cell_type": "code",
   "execution_count": null,
   "id": "de886fc8",
   "metadata": {},
   "outputs": [],
   "source": []
  },
  {
   "cell_type": "code",
   "execution_count": null,
   "id": "1ac18763",
   "metadata": {},
   "outputs": [],
   "source": []
  },
  {
   "cell_type": "code",
   "execution_count": null,
   "id": "cdd63517",
   "metadata": {},
   "outputs": [],
   "source": []
  },
  {
   "cell_type": "code",
   "execution_count": null,
   "id": "46c2efbf",
   "metadata": {},
   "outputs": [],
   "source": []
  },
  {
   "cell_type": "code",
   "execution_count": null,
   "id": "40d5b8ec",
   "metadata": {},
   "outputs": [],
   "source": []
  },
  {
   "cell_type": "code",
   "execution_count": null,
   "id": "2b19f975",
   "metadata": {},
   "outputs": [],
   "source": []
  },
  {
   "cell_type": "code",
   "execution_count": null,
   "id": "d0229f54",
   "metadata": {},
   "outputs": [],
   "source": []
  },
  {
   "cell_type": "code",
   "execution_count": null,
   "id": "2c9ea1b7",
   "metadata": {},
   "outputs": [],
   "source": []
  },
  {
   "cell_type": "code",
   "execution_count": null,
   "id": "c45b39a4",
   "metadata": {},
   "outputs": [],
   "source": []
  },
  {
   "cell_type": "code",
   "execution_count": null,
   "id": "147fc6ef",
   "metadata": {},
   "outputs": [],
   "source": []
  },
  {
   "cell_type": "code",
   "execution_count": null,
   "id": "1627bae8",
   "metadata": {},
   "outputs": [],
   "source": []
  },
  {
   "cell_type": "code",
   "execution_count": null,
   "id": "1a964eac",
   "metadata": {},
   "outputs": [],
   "source": []
  },
  {
   "cell_type": "code",
   "execution_count": null,
   "id": "84f78305",
   "metadata": {},
   "outputs": [],
   "source": []
  },
  {
   "cell_type": "code",
   "execution_count": null,
   "id": "3c5efb1e",
   "metadata": {},
   "outputs": [],
   "source": []
  },
  {
   "cell_type": "code",
   "execution_count": null,
   "id": "a2016d33",
   "metadata": {},
   "outputs": [],
   "source": []
  },
  {
   "cell_type": "code",
   "execution_count": null,
   "id": "bfdb4021",
   "metadata": {},
   "outputs": [],
   "source": []
  },
  {
   "cell_type": "code",
   "execution_count": null,
   "id": "0e641c3a",
   "metadata": {},
   "outputs": [],
   "source": []
  },
  {
   "cell_type": "code",
   "execution_count": null,
   "id": "821a2ab0",
   "metadata": {},
   "outputs": [],
   "source": []
  },
  {
   "cell_type": "code",
   "execution_count": null,
   "id": "34578a40",
   "metadata": {},
   "outputs": [],
   "source": []
  },
  {
   "cell_type": "code",
   "execution_count": null,
   "id": "ff8e03d5",
   "metadata": {},
   "outputs": [],
   "source": []
  },
  {
   "cell_type": "code",
   "execution_count": null,
   "id": "09dee5ff",
   "metadata": {},
   "outputs": [],
   "source": []
  },
  {
   "cell_type": "code",
   "execution_count": null,
   "id": "783c63f5",
   "metadata": {},
   "outputs": [],
   "source": []
  },
  {
   "cell_type": "code",
   "execution_count": null,
   "id": "3a402d88",
   "metadata": {},
   "outputs": [],
   "source": []
  },
  {
   "cell_type": "code",
   "execution_count": null,
   "id": "5b8a4aab",
   "metadata": {},
   "outputs": [],
   "source": []
  },
  {
   "cell_type": "code",
   "execution_count": null,
   "id": "7ccf9453",
   "metadata": {},
   "outputs": [],
   "source": []
  },
  {
   "cell_type": "code",
   "execution_count": null,
   "id": "ac531e20",
   "metadata": {},
   "outputs": [],
   "source": []
  },
  {
   "cell_type": "code",
   "execution_count": null,
   "id": "070d5a78",
   "metadata": {},
   "outputs": [],
   "source": []
  },
  {
   "cell_type": "code",
   "execution_count": null,
   "id": "1c14024a",
   "metadata": {},
   "outputs": [],
   "source": []
  },
  {
   "cell_type": "code",
   "execution_count": null,
   "id": "dcf2e2d9",
   "metadata": {},
   "outputs": [],
   "source": []
  },
  {
   "cell_type": "code",
   "execution_count": null,
   "id": "761da896",
   "metadata": {},
   "outputs": [],
   "source": []
  },
  {
   "cell_type": "code",
   "execution_count": null,
   "id": "a83c0f77",
   "metadata": {},
   "outputs": [],
   "source": []
  },
  {
   "cell_type": "code",
   "execution_count": null,
   "id": "ca8ad765",
   "metadata": {},
   "outputs": [],
   "source": []
  },
  {
   "cell_type": "code",
   "execution_count": null,
   "id": "3d4f0f5f",
   "metadata": {},
   "outputs": [],
   "source": []
  },
  {
   "cell_type": "code",
   "execution_count": null,
   "id": "eac966e1",
   "metadata": {},
   "outputs": [],
   "source": []
  },
  {
   "cell_type": "code",
   "execution_count": null,
   "id": "fc516b00",
   "metadata": {},
   "outputs": [],
   "source": []
  },
  {
   "cell_type": "code",
   "execution_count": null,
   "id": "5b872c08",
   "metadata": {},
   "outputs": [],
   "source": []
  },
  {
   "cell_type": "code",
   "execution_count": null,
   "id": "eb92fe93",
   "metadata": {},
   "outputs": [],
   "source": []
  },
  {
   "cell_type": "code",
   "execution_count": null,
   "id": "ef9ca05f",
   "metadata": {},
   "outputs": [],
   "source": []
  },
  {
   "cell_type": "code",
   "execution_count": null,
   "id": "2905cdfc",
   "metadata": {},
   "outputs": [],
   "source": []
  },
  {
   "cell_type": "code",
   "execution_count": null,
   "id": "a0599ac0",
   "metadata": {},
   "outputs": [],
   "source": []
  }
 ],
 "metadata": {
  "kernelspec": {
   "display_name": "Python 3 (ipykernel)",
   "language": "python",
   "name": "python3"
  },
  "language_info": {
   "codemirror_mode": {
    "name": "ipython",
    "version": 3
   },
   "file_extension": ".py",
   "mimetype": "text/x-python",
   "name": "python",
   "nbconvert_exporter": "python",
   "pygments_lexer": "ipython3",
   "version": "3.8.10"
  }
 },
 "nbformat": 4,
 "nbformat_minor": 5
}
